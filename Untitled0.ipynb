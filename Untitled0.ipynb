{
  "nbformat": 4,
  "nbformat_minor": 0,
  "metadata": {
    "colab": {
      "provenance": [],
      "authorship_tag": "ABX9TyMJLxVwpl8Q2qehCrl8WVC4",
      "include_colab_link": true
    },
    "kernelspec": {
      "name": "python3",
      "display_name": "Python 3"
    },
    "language_info": {
      "name": "python"
    }
  },
  "cells": [
    {
      "cell_type": "markdown",
      "metadata": {
        "id": "view-in-github",
        "colab_type": "text"
      },
      "source": [
        "<a href=\"https://colab.research.google.com/github/Mustafa-bacha/EDA-intership/blob/main/Untitled0.ipynb\" target=\"_parent\"><img src=\"https://colab.research.google.com/assets/colab-badge.svg\" alt=\"Open In Colab\"/></a>"
      ]
    },
    {
      "cell_type": "code",
      "execution_count": 2,
      "metadata": {
        "colab": {
          "base_uri": "https://localhost:8080/"
        },
        "id": "soNoA0kLrHKj",
        "outputId": "ed000d0d-626d-4345-8b0c-c64ac35f8469"
      },
      "outputs": [
        {
          "output_type": "stream",
          "name": "stdout",
          "text": [
            "[30 32 34 36 38 40 42 44 46 48 50 52 54 56 58 60 62 64 66 68 70]\n"
          ]
        }
      ],
      "source": [
        "# Question No: 1\n",
        "import numpy as np\n",
        "even_integers = np.arange(30, 71, 2)\n",
        "\n",
        "print(even_integers)\n"
      ]
    },
    {
      "cell_type": "code",
      "source": [
        "# Question No: 2\n",
        "random_numbers = np.random.randn(15)\n",
        "\n",
        "print(random_numbers)"
      ],
      "metadata": {
        "colab": {
          "base_uri": "https://localhost:8080/"
        },
        "id": "yFr8I_2jrimV",
        "outputId": "363eeee4-0061-492a-f19c-a15be015d2c0"
      },
      "execution_count": 3,
      "outputs": [
        {
          "output_type": "stream",
          "name": "stdout",
          "text": [
            "[-0.99722644  0.31850663 -0.47187144  0.32461987  0.46633542  0.94730642\n",
            "  1.07762605 -0.24820568  0.92160703 -0.7565956   0.83411387 -1.44067527\n",
            "  1.04075284 -1.12731365 -0.51723856]\n"
          ]
        }
      ]
    },
    {
      "cell_type": "markdown",
      "source": [
        "Question No: 3\n",
        "\n",
        " The cross-product operation is only defined for vectors (1D arrays), not matrices (2D or higher dimensional arrays). Therefore, attempting to calculate the cross-product of two NumPy matrices directly will result in an error."
      ],
      "metadata": {
        "id": "P-VjOQSMsMAI"
      }
    },
    {
      "cell_type": "code",
      "source": [
        "# Question No: 4\n",
        "\n",
        "import numpy as np\n",
        "arr = np.array([[5, 9, 8],\n",
        "               [7, 1, 4],\n",
        "               [9, 4, 2]])\n",
        "\n",
        "determinant = np.linalg.det(arr)\n",
        "\n",
        "print(determinant)\n"
      ],
      "metadata": {
        "colab": {
          "base_uri": "https://localhost:8080/"
        },
        "id": "gbPbGmaUsWrb",
        "outputId": "d7b4edab-547c-4505-d94f-61a26ac1eb20"
      },
      "execution_count": 5,
      "outputs": [
        {
          "output_type": "stream",
          "name": "stdout",
          "text": [
            "279.9999999999999\n"
          ]
        }
      ]
    },
    {
      "cell_type": "code",
      "source": [
        "# Question No: 5\n",
        "\n",
        "import numpy as np\n",
        "random_array = np.random.rand(3, 3, 3)\n",
        "\n",
        "print(random_array)"
      ],
      "metadata": {
        "colab": {
          "base_uri": "https://localhost:8080/"
        },
        "id": "4m_vDzXos4h-",
        "outputId": "13aae6e8-f508-43f3-d3dc-ccf0c93b1167"
      },
      "execution_count": 8,
      "outputs": [
        {
          "output_type": "stream",
          "name": "stdout",
          "text": [
            "[[[0.07492156 0.83668115 0.11441406]\n",
            "  [0.11304523 0.86285684 0.14493989]\n",
            "  [0.20341072 0.74253507 0.89197807]]\n",
            "\n",
            " [[0.91725294 0.19517046 0.41893986]\n",
            "  [0.01274736 0.11515943 0.66712739]\n",
            "  [0.09702723 0.26956912 0.35949548]]\n",
            "\n",
            " [[0.79367049 0.33572513 0.83809559]\n",
            "  [0.0336239  0.20993554 0.20385825]\n",
            "  [0.88251286 0.80542924 0.2201969 ]]]\n"
          ]
        }
      ]
    },
    {
      "cell_type": "code",
      "source": [
        "# Question No: 6\n",
        "import numpy as np\n",
        "random_array = np.random.randint(1, 51, size=(5, 5))\n",
        "\n",
        "minimum = np.min(random_array)\n",
        "maximum = np.max(random_array)\n",
        "\n",
        "print(\"Random array:\")\n",
        "print(random_array)\n",
        "print(\"Minimum value:\", minimum)\n",
        "print(\"Maximum value:\", maximum)\n"
      ],
      "metadata": {
        "colab": {
          "base_uri": "https://localhost:8080/"
        },
        "id": "YW87so11tU2E",
        "outputId": "51725187-6bf0-4674-f3ee-01dc684df0e6"
      },
      "execution_count": 15,
      "outputs": [
        {
          "output_type": "stream",
          "name": "stdout",
          "text": [
            "Random array:\n",
            "[[38 48 21 11 29]\n",
            " [40 20 20  4 20]\n",
            " [16 34 39 24 41]\n",
            " [26 39 39  1 30]\n",
            " [12 35 23 30 15]]\n",
            "Minimum value: 1\n",
            "Maximum value: 48\n"
          ]
        }
      ]
    },
    {
      "cell_type": "code",
      "source": [
        "# Question No: 7\n",
        "import numpy as np\n",
        "array = np.random.randint(1, 101, size=(5, 5))\n",
        "\n",
        "mean = np.mean(array, axis=1)\n",
        "std = np.std(array, axis=1)\n",
        "variance = np.var(array, axis=1)\n",
        "\n",
        "print(\"Random array:\")\n",
        "print(array)\n",
        "print(\"\\nMean:\")\n",
        "print(mean)\n",
        "print(\"\\nStandard deviation:\")\n",
        "print(std)\n",
        "print(\"\\nVariance:\")\n",
        "print(variance)\n"
      ],
      "metadata": {
        "colab": {
          "base_uri": "https://localhost:8080/"
        },
        "id": "-_IwvbLet9j4",
        "outputId": "739c07ca-1aa3-436c-c4d7-5cd09bd9c351"
      },
      "execution_count": 16,
      "outputs": [
        {
          "output_type": "stream",
          "name": "stdout",
          "text": [
            "Random array:\n",
            "[[45 73 65 58 44]\n",
            " [54 23 84 59 47]\n",
            " [27 45 79 83 95]\n",
            " [18 24 43 23 25]\n",
            " [71 60 83  8 40]]\n",
            "\n",
            "Mean:\n",
            "[57.  53.4 65.8 26.6 52.4]\n",
            "\n",
            "Standard deviation:\n",
            "[11.26055061 19.66316353 25.53742352  8.54634425 26.32565289]\n",
            "\n",
            "Variance:\n",
            "[126.8  386.64 652.16  73.04 693.04]\n"
          ]
        }
      ]
    },
    {
      "cell_type": "code",
      "source": [],
      "metadata": {
        "id": "vgIMH25xvykO"
      },
      "execution_count": null,
      "outputs": []
    }
  ]
}